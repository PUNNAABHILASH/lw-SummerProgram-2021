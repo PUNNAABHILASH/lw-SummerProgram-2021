{
 "cells": [
  {
   "cell_type": "code",
   "execution_count": 1,
   "id": "ba6ded4b",
   "metadata": {},
   "outputs": [],
   "source": [
    "import pandas"
   ]
  },
  {
   "cell_type": "code",
   "execution_count": 2,
   "id": "5700da63",
   "metadata": {},
   "outputs": [],
   "source": [
    "db=pandas.read_csv('salary_prediction.csv')"
   ]
  },
  {
   "cell_type": "code",
   "execution_count": 4,
   "id": "9a7e16b9",
   "metadata": {},
   "outputs": [
    {
     "data": {
      "text/plain": [
       "Index(['YearsExperience', 'Salary'], dtype='object')"
      ]
     },
     "execution_count": 4,
     "metadata": {},
     "output_type": "execute_result"
    }
   ],
   "source": [
    "db.columns\n"
   ]
  },
  {
   "cell_type": "code",
   "execution_count": 5,
   "id": "6b868423",
   "metadata": {},
   "outputs": [
    {
     "name": "stdout",
     "output_type": "stream",
     "text": [
      "<class 'pandas.core.frame.DataFrame'>\n",
      "RangeIndex: 30 entries, 0 to 29\n",
      "Data columns (total 2 columns):\n",
      " #   Column           Non-Null Count  Dtype  \n",
      "---  ------           --------------  -----  \n",
      " 0   YearsExperience  30 non-null     float64\n",
      " 1   Salary           30 non-null     int64  \n",
      "dtypes: float64(1), int64(1)\n",
      "memory usage: 608.0 bytes\n"
     ]
    }
   ],
   "source": [
    "db.info()"
   ]
  },
  {
   "cell_type": "code",
   "execution_count": 6,
   "id": "b05765a2",
   "metadata": {},
   "outputs": [],
   "source": [
    "y=db['Salary']"
   ]
  },
  {
   "cell_type": "code",
   "execution_count": 20,
   "id": "3de24ee2",
   "metadata": {},
   "outputs": [],
   "source": [
    "x=db['YearsExperience']"
   ]
  },
  {
   "cell_type": "code",
   "execution_count": 23,
   "id": "84759374",
   "metadata": {},
   "outputs": [],
   "source": [
    "x=x.values.reshape(-1,1)"
   ]
  },
  {
   "cell_type": "code",
   "execution_count": 24,
   "id": "33e7a452",
   "metadata": {},
   "outputs": [],
   "source": [
    "from sklearn.linear_model import LinearRegression"
   ]
  },
  {
   "cell_type": "code",
   "execution_count": 25,
   "id": "c0231a98",
   "metadata": {},
   "outputs": [],
   "source": [
    "model=LinearRegression()"
   ]
  },
  {
   "cell_type": "code",
   "execution_count": 26,
   "id": "3cba578b",
   "metadata": {},
   "outputs": [
    {
     "data": {
      "text/plain": [
       "LinearRegression()"
      ]
     },
     "execution_count": 26,
     "metadata": {},
     "output_type": "execute_result"
    }
   ],
   "source": [
    "model.fit(x ,y)"
   ]
  },
  {
   "cell_type": "code",
   "execution_count": 27,
   "id": "c42282eb",
   "metadata": {},
   "outputs": [
    {
     "data": {
      "text/plain": [
       "array([9449.96232146])"
      ]
     },
     "execution_count": 27,
     "metadata": {},
     "output_type": "execute_result"
    }
   ],
   "source": [
    "model.coef_"
   ]
  },
  {
   "cell_type": "code",
   "execution_count": 28,
   "id": "c82ddfff",
   "metadata": {},
   "outputs": [
    {
     "data": {
      "text/plain": [
       "array([49417.10600231])"
      ]
     },
     "execution_count": 28,
     "metadata": {},
     "output_type": "execute_result"
    }
   ],
   "source": [
    "model.predict([[2.5]])"
   ]
  },
  {
   "cell_type": "code",
   "execution_count": 30,
   "id": "c7de50dc",
   "metadata": {},
   "outputs": [
    {
     "data": {
      "text/plain": [
       "23624.90580365"
      ]
     },
     "execution_count": 30,
     "metadata": {},
     "output_type": "execute_result"
    }
   ],
   "source": [
    "9449.96232146*2.5"
   ]
  },
  {
   "cell_type": "code",
   "execution_count": 32,
   "id": "829f5185",
   "metadata": {},
   "outputs": [
    {
     "data": {
      "text/plain": [
       "25792.20019866871"
      ]
     },
     "execution_count": 32,
     "metadata": {},
     "output_type": "execute_result"
    }
   ],
   "source": [
    "c=model.intercept_"
   ]
  },
  {
   "cell_type": "code",
   "execution_count": 34,
   "id": "03d355fd",
   "metadata": {},
   "outputs": [
    {
     "data": {
      "text/plain": [
       "49417.10600231871"
      ]
     },
     "execution_count": 34,
     "metadata": {},
     "output_type": "execute_result"
    }
   ],
   "source": [
    "c+9449.96232146*2.5"
   ]
  },
  {
   "cell_type": "code",
   "execution_count": 35,
   "id": "f1215aa8",
   "metadata": {},
   "outputs": [
    {
     "data": {
      "text/plain": [
       "array([36187.15875227])"
      ]
     },
     "execution_count": 35,
     "metadata": {},
     "output_type": "execute_result"
    }
   ],
   "source": [
    "model.predict([[1.1]])"
   ]
  },
  {
   "cell_type": "code",
   "execution_count": 37,
   "id": "0c1ac908",
   "metadata": {},
   "outputs": [
    {
     "data": {
      "text/plain": [
       "91.97864614358335"
      ]
     },
     "execution_count": 37,
     "metadata": {},
     "output_type": "execute_result"
    }
   ],
   "source": [
    "model.predict([[1.1]])"
   ]
  },
  {
   "cell_type": "code",
   "execution_count": 38,
   "id": "b988d2e5",
   "metadata": {},
   "outputs": [],
   "source": [
    "import joblib"
   ]
  },
  {
   "cell_type": "code",
   "execution_count": 39,
   "id": "34a95b9c",
   "metadata": {},
   "outputs": [
    {
     "data": {
      "text/plain": [
       "['sal.pk1']"
      ]
     },
     "execution_count": 39,
     "metadata": {},
     "output_type": "execute_result"
    }
   ],
   "source": [
    "joblib.dump(model,\"sal.pk1\")"
   ]
  },
  {
   "cell_type": "code",
   "execution_count": null,
   "id": "abf60636",
   "metadata": {},
   "outputs": [],
   "source": []
  }
 ],
 "metadata": {
  "kernelspec": {
   "display_name": "Python 3",
   "language": "python",
   "name": "python3"
  },
  "language_info": {
   "codemirror_mode": {
    "name": "ipython",
    "version": 3
   },
   "file_extension": ".py",
   "mimetype": "text/x-python",
   "name": "python",
   "nbconvert_exporter": "python",
   "pygments_lexer": "ipython3",
   "version": "3.8.8"
  }
 },
 "nbformat": 4,
 "nbformat_minor": 5
}
