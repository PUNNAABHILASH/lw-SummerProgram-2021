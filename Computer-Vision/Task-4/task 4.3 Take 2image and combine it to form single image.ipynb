{
 "cells": [
  {
   "cell_type": "code",
   "execution_count": null,
   "id": "c5d63a94",
   "metadata": {},
   "outputs": [],
   "source": [
    "import cv2"
   ]
  },
  {
   "cell_type": "code",
   "execution_count": null,
   "id": "48b42344",
   "metadata": {},
   "outputs": [],
   "source": [
    "unix=cv2.imread('unix.jpg')            \n",
    "galaxy=cv2.imread('galaxy.jpg')\n",
    "#unix.shape"
   ]
  },
  {
   "cell_type": "code",
   "execution_count": null,
   "id": "842bdc66",
   "metadata": {},
   "outputs": [],
   "source": [
    "galaxy.shape\n",
    "unix=unix[:285]\n",
    "galaxy=galaxy[:,:299]\n",
    "#unix.shape   take screeshot"
   ]
  },
  {
   "cell_type": "code",
   "execution_count": null,
   "id": "45668ca2",
   "metadata": {},
   "outputs": [],
   "source": [
    "cv2.imshow('unix',unix)\n",
    "cv2.imshow('galaxy',galaxy)\n",
    "cv2.waitKey()\n",
    "cv2.destroyAllWindows()\n"
   ]
  },
  {
   "cell_type": "code",
   "execution_count": null,
   "id": "b4d3247d",
   "metadata": {},
   "outputs": [],
   "source": [
    "db=cv2.vconcat([unix,galaxy])\n",
    "\n",
    "cv2.imshow('galaxy',db)\n",
    "\n",
    "cv2.waitKey()\n",
    "cv2.destroyAllWindows()"
   ]
  },
  {
   "cell_type": "code",
   "execution_count": null,
   "id": "579a3f29",
   "metadata": {},
   "outputs": [],
   "source": [
    "db=cv2.hconcat([unix,galaxy])\n",
    "cv2.imshow('galaxy',db)\n",
    "cv2.waitKey()\n",
    "cv2.destroyAllWindows()"
   ]
  },
  {
   "cell_type": "code",
   "execution_count": null,
   "id": "80c787e2",
   "metadata": {},
   "outputs": [],
   "source": []
  }
 ],
 "metadata": {
  "kernelspec": {
   "display_name": "Python 3",
   "language": "python",
   "name": "python3"
  },
  "language_info": {
   "codemirror_mode": {
    "name": "ipython",
    "version": 3
   },
   "file_extension": ".py",
   "mimetype": "text/x-python",
   "name": "python",
   "nbconvert_exporter": "python",
   "pygments_lexer": "ipython3",
   "version": "3.8.8"
  }
 },
 "nbformat": 4,
 "nbformat_minor": 5
}
