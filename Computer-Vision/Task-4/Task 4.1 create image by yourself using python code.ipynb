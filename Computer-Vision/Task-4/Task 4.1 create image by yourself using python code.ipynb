{
 "cells": [
  {
   "cell_type": "code",
   "execution_count": null,
   "id": "237f6e50",
   "metadata": {},
   "outputs": [],
   "source": [
    "import cv2\n",
    "import numpy"
   ]
  },
  {
   "cell_type": "code",
   "execution_count": null,
   "id": "d6e69535",
   "metadata": {},
   "outputs": [],
   "source": [
    "a=numpy.ones([600,500,3])"
   ]
  },
  {
   "cell_type": "code",
   "execution_count": null,
   "id": "ea130bd8",
   "metadata": {},
   "outputs": [],
   "source": [
    "a.shape"
   ]
  },
  {
   "cell_type": "code",
   "execution_count": null,
   "id": "9c19df25",
   "metadata": {},
   "outputs": [],
   "source": [
    "cv2.rectangle(a,(100,100),(400,300),[0,0,0],5)\n",
    "cv2.circle(a,center=(250,80),radius=10,color=[0,0,0],thickness=5)\n",
    "cv2.rectangle(a,(70,58),(430,340),[0,0,0],10)\n",
    "cv2.line(a,(70,340),(35,465),[0,0,0],8)\n",
    "cv2.line(a,(430,340),(400,470),[0,0,0],8)\n",
    "cv2.line(a,(35,465),(400,465),[0,0,0],8)\n",
    "cv2.rectangle(a,(35,470),(400,495),[0,0,0],8)\n",
    "cv2.line(a,(430,330),(430,382),[0,0,0],5)\n",
    "cv2.line(a,(402,497),(430,385),[0,0,0],4)\n",
    "cv2.line(a,(105,345),(68,460),[0,0,0],4)\n",
    "cv2.line(a,(140,345),(101,460),[0,0,0],4)\n",
    "cv2.line(a,(175,345),(134,460),[0,0,0],4)\n",
    "cv2.line(a,(210,345),(167,460),[0,0,0],4)\n",
    "cv2.line(a,(245,345),(200,460),[0,0,0],4)\n",
    "cv2.line(a,(280,345),(233,460),[0,0,0],4)\n",
    "cv2.line(a,(315,345),(263,460),[0,0,0],4)\n",
    "cv2.line(a,(350,345),(299,460),[0,0,0],4)\n",
    "cv2.line(a,(380,345),(324,460),[0,0,0],4)\n",
    "cv2.line(a,(410,345),(358,460),[0,0,0],4)\n",
    "cv2.line(a,(67,365),(420,365),[0,0,0],4)\n",
    "cv2.line(a,(63,390),(412,390),[0,0,0],4)\n",
    "cv2.line(a,(55,415),(406,415),[0,0,0],4)\n",
    "cv2.line(a,(48,440),(400,440),[0,0,0],4)\n"
   ]
  },
  {
   "cell_type": "code",
   "execution_count": null,
   "id": "34c431f8",
   "metadata": {},
   "outputs": [],
   "source": [
    "cv2.imshow(\"hello\",a)\n",
    "cv2.waitKey()\n",
    "cv2.destroyAllWindows()"
   ]
  },
  {
   "cell_type": "code",
   "execution_count": null,
   "id": "1bfcd127",
   "metadata": {},
   "outputs": [],
   "source": []
  }
 ],
 "metadata": {
  "kernelspec": {
   "display_name": "Python 3",
   "language": "python",
   "name": "python3"
  },
  "language_info": {
   "codemirror_mode": {
    "name": "ipython",
    "version": 3
   },
   "file_extension": ".py",
   "mimetype": "text/x-python",
   "name": "python",
   "nbconvert_exporter": "python",
   "pygments_lexer": "ipython3",
   "version": "3.8.8"
  }
 },
 "nbformat": 4,
 "nbformat_minor": 5
}
