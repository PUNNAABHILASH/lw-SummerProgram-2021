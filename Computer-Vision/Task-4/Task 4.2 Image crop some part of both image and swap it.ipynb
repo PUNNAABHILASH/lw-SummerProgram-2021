{
 "cells": [
  {
   "cell_type": "code",
   "execution_count": null,
   "id": "354120d5",
   "metadata": {},
   "outputs": [],
   "source": [
    "import cv2"
   ]
  },
  {
   "cell_type": "code",
   "execution_count": null,
   "id": "af223dcf",
   "metadata": {},
   "outputs": [],
   "source": [
    "hulk=cv2.imread(\"hulk-smash.png\")\n",
    "thanos=cv2.imread(\"thanos.jpg\")\n"
   ]
  },
  {
   "cell_type": "code",
   "execution_count": null,
   "id": "73663e81",
   "metadata": {},
   "outputs": [],
   "source": [
    "cv2.imshow(\"hulk\",hulk)\n",
    "cv2.waitKey()\n",
    "cv2.destroyAllWindows()   \n",
    "thanos=thanos[12:700]\n",
    "cv2.imshow(\"thanos\",thanos)\n",
    "cv2.waitKey()\n",
    "cv2.destroyAllWindows()"
   ]
  },
  {
   "cell_type": "code",
   "execution_count": null,
   "id": "c48d13bf",
   "metadata": {},
   "outputs": [],
   "source": [
    "hu=hulk[:240,490:660]\n",
    "cv2.imshow(\"crop1\",hu)\n",
    "cv2.waitKey()\n",
    "cv2.destroyAllWindows()\n",
    "th=thanos[:240,606:776] \n",
    "cv2.imshow(\"crop2\",th)\n",
    "cv2.waitKey()\n",
    "cv2.destroyAllWindows()\n"
   ]
  },
  {
   "cell_type": "code",
   "execution_count": null,
   "id": "396a1f0e",
   "metadata": {},
   "outputs": [],
   "source": [
    "\n",
    "hulk[:240,490:660]=th\n",
    "cv2.imshow(\"thanos\",hulk)\n",
    "cv2.waitKey()\n",
    "cv2.destroyAllWindows() \n",
    "\n",
    "\n"
   ]
  },
  {
   "cell_type": "code",
   "execution_count": null,
   "id": "bf9d27d0",
   "metadata": {},
   "outputs": [],
   "source": [
    "thanos[:240,606:776]=hu\n",
    "cv2.imshow(\"hulk\",thanos) \n",
    "cv2.waitKey()\n",
    "cv2.destroyAllWindows()\n"
   ]
  },
  {
   "cell_type": "code",
   "execution_count": null,
   "id": "b35517a6",
   "metadata": {},
   "outputs": [],
   "source": []
  }
 ],
 "metadata": {
  "kernelspec": {
   "display_name": "Python 3",
   "language": "python",
   "name": "python3"
  },
  "language_info": {
   "codemirror_mode": {
    "name": "ipython",
    "version": 3
   },
   "file_extension": ".py",
   "mimetype": "text/x-python",
   "name": "python",
   "nbconvert_exporter": "python",
   "pygments_lexer": "ipython3",
   "version": "3.8.8"
  }
 },
 "nbformat": 4,
 "nbformat_minor": 5
}
