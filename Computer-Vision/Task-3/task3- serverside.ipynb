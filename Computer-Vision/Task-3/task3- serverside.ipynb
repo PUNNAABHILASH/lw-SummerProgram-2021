{
 "cells": [
  {
   "cell_type": "code",
   "execution_count": null,
   "id": "c2bec8c5",
   "metadata": {},
   "outputs": [],
   "source": [
    "#server side streaming\n",
    "import socket,cv2, pickle,struct,imutils\n",
    "\n",
    "#create socket\n",
    "ssocket = socket.socket(socket.AF_INET,socket.SOCK_STREAM)\n",
    "host_name  = socket.gethostname()\n",
    "host_ip = socket.gethostbyname(host_name)\n",
    "print('HOST IP:',host_ip)\n",
    "port = 9999\n",
    "socket_address = (host_ip,port)\n",
    "\n",
    "\n",
    "ssocket.bind(socket_address)\n",
    "\n",
    "\n",
    "ssocket.listen(5)\n",
    "print(\"LISTENING AT:\",socket_address)\n",
    "\n",
    "\n",
    "while True:\n",
    "    csocket,addr = ssocket.accept()\n",
    "    print('GOT CONNECTION FROM:',addr)\n",
    "    if csocket:\n",
    "        vid = cv2.VideoCapture(0)\n",
    "\n",
    "        while(vid.isOpened()):\n",
    "            img,frame = vid.read()\n",
    "            frame = imutils.resize(frame,width=320) \n",
    "            a = pickle.dumps(frame)\n",
    "          \n",
    "            message = struct.pack(\"Q\",len(a))+ a  # 2000000  + a (data)\n",
    "            csocket.sendall(message) \n",
    "            \n",
    "            cv2.imshow('SERVER VIDEO',frame)\n",
    "            key = cv2.waitKey(1) & 0xFF\n",
    "            if key == 13:\n",
    "                csocket.close()"
   ]
  },
  {
   "cell_type": "code",
   "execution_count": null,
   "id": "50cc2772",
   "metadata": {},
   "outputs": [],
   "source": []
  },
  {
   "cell_type": "code",
   "execution_count": null,
   "id": "0aae63b0",
   "metadata": {},
   "outputs": [],
   "source": []
  }
 ],
 "metadata": {
  "kernelspec": {
   "display_name": "Python 3",
   "language": "python",
   "name": "python3"
  },
  "language_info": {
   "codemirror_mode": {
    "name": "ipython",
    "version": 3
   },
   "file_extension": ".py",
   "mimetype": "text/x-python",
   "name": "python",
   "nbconvert_exporter": "python",
   "pygments_lexer": "ipython3",
   "version": "3.8.8"
  }
 },
 "nbformat": 4,
 "nbformat_minor": 5
}
